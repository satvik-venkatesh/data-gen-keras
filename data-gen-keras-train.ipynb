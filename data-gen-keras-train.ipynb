{
  "nbformat": 4,
  "nbformat_minor": 0,
  "metadata": {
    "colab": {
      "name": "data-gen-keras-train.ipynb",
      "provenance": [],
      "collapsed_sections": [],
      "authorship_tag": "ABX9TyN8qIvekylSik64PHViF9nG",
      "include_colab_link": true
    },
    "kernelspec": {
      "name": "python3",
      "display_name": "Python 3"
    }
  },
  "cells": [
    {
      "cell_type": "markdown",
      "metadata": {
        "id": "view-in-github",
        "colab_type": "text"
      },
      "source": [
        "<a href=\"https://colab.research.google.com/github/satvik-venkatesh/data-gen-keras/blob/master/data-gen-keras-train.ipynb\" target=\"_parent\"><img src=\"https://colab.research.google.com/assets/colab-badge.svg\" alt=\"Open In Colab\"/></a>"
      ]
    },
    {
      "cell_type": "markdown",
      "metadata": {
        "id": "EG05YxRKzYnX"
      },
      "source": [
        "# Data Generators with Keras and Tensorflow on Google Colab\n"
      ]
    },
    {
      "cell_type": "code",
      "metadata": {
        "id": "VY57tcw1V90k"
      },
      "source": [
        "import numpy as np\n",
        "import tensorflow as tf\n",
        "import math\n",
        "import glob\n",
        "import pickle\n",
        "import os"
      ],
      "execution_count": 1,
      "outputs": []
    },
    {
      "cell_type": "code",
      "metadata": {
        "id": "5tuwfSbXWI_8",
        "colab": {
          "base_uri": "https://localhost:8080/"
        },
        "outputId": "442a41bc-c896-4661-f835-a3cc2452dd9d"
      },
      "source": [
        "\"\"\"\n",
        "Mount Google Drive into Colab.\n",
        "\"\"\"\n",
        "from google.colab import drive\n",
        "drive.mount('/content/drive')"
      ],
      "execution_count": 2,
      "outputs": [
        {
          "output_type": "stream",
          "text": [
            "Mounted at /content/drive\n"
          ],
          "name": "stdout"
        }
      ]
    },
    {
      "cell_type": "markdown",
      "metadata": {
        "id": "VH4031ttx8Xo"
      },
      "source": [
        "Here, I am cloning the GitHub repository that contains the data. You can extract the zip files by specifying the location in your personal Google Drive. The data has already been pre-processed for you. The data is pertaining audio classification of music and speech, but I will not go into the detail of it because that is not the objective of this notebook."
      ]
    },
    {
      "cell_type": "code",
      "metadata": {
        "id": "HJ3Tjai3vsZE",
        "colab": {
          "base_uri": "https://localhost:8080/"
        },
        "outputId": "c2f165bd-c362-4e62-cbd3-0e44ab7d731a"
      },
      "source": [
        "!git clone \"https://github.com/satvik-venkatesh/data-gen-keras.git\""
      ],
      "execution_count": 3,
      "outputs": [
        {
          "output_type": "stream",
          "text": [
            "Cloning into 'data-gen-keras'...\n",
            "remote: Enumerating objects: 25, done.\u001b[K\n",
            "remote: Counting objects: 100% (9/9), done.\u001b[K\n",
            "remote: Compressing objects: 100% (9/9), done.\u001b[K\n",
            "remote: Total 25 (delta 2), reused 0 (delta 0), pack-reused 16\u001b[K\n",
            "Unpacking objects: 100% (25/25), done.\n",
            "Checking out files: 100% (9/9), done.\n"
          ],
          "name": "stdout"
        }
      ]
    },
    {
      "cell_type": "code",
      "metadata": {
        "id": "Pe_FJ7UYWac_",
        "colab": {
          "base_uri": "https://localhost:8080/"
        },
        "outputId": "46e2561d-9d8b-4b36-a0ee-95c462bc01e4"
      },
      "source": [
        "\"\"\"\n",
        "Extract train data\n",
        "\"\"\"\n",
        "from zipfile import ZipFile\n",
        "\n",
        "blocks = glob.glob(\"/content/data-gen-keras/train/*\")\n",
        "\n",
        "for b in blocks:\n",
        "  zip_name = b\n",
        "  with ZipFile(zip_name, 'r') as zip:\n",
        "    zip.extractall('train data')\n",
        "    print(\"Extracted all sound files into the folder 'train data'\")"
      ],
      "execution_count": 4,
      "outputs": [
        {
          "output_type": "stream",
          "text": [
            "Extracted all sound files into the folder 'train data'\n",
            "Extracted all sound files into the folder 'train data'\n",
            "Extracted all sound files into the folder 'train data'\n",
            "Extracted all sound files into the folder 'train data'\n"
          ],
          "name": "stdout"
        }
      ]
    },
    {
      "cell_type": "code",
      "metadata": {
        "id": "OAxdaWByWwHb",
        "colab": {
          "base_uri": "https://localhost:8080/"
        },
        "outputId": "63b1c165-0d20-4ff1-ef81-51e941b851f5"
      },
      "source": [
        "\"\"\"\n",
        "Extract validation data\n",
        "\"\"\"\n",
        "from zipfile import ZipFile\n",
        "\n",
        "blocks = glob.glob(\"/content/data-gen-keras/val/*\")\n",
        "\n",
        "for b in blocks:\n",
        "  zip_name = b\n",
        "  with ZipFile(zip_name, 'r') as zip:\n",
        "    zip.extractall('validation data')\n",
        "    print(\"Extracted all sound files into the folder 'validation data'\")"
      ],
      "execution_count": 5,
      "outputs": [
        {
          "output_type": "stream",
          "text": [
            "Extracted all sound files into the folder 'validation data'\n",
            "Extracted all sound files into the folder 'validation data'\n",
            "Extracted all sound files into the folder 'validation data'\n"
          ],
          "name": "stdout"
        }
      ]
    },
    {
      "cell_type": "code",
      "metadata": {
        "id": "LwVygaRxW3D8"
      },
      "source": [
        "import tensorflow as tf\n",
        "import keras\n",
        "\n",
        "class DataGenerator(tf.compat.v2.keras.utils.Sequence):\n",
        "  def __init__(self, list_examples, batch_size=64, dim=(802, 80),\n",
        "                n_classes=2, shuffle=True):\n",
        "    # Constructor of the data generator.\n",
        "    self.dim = dim\n",
        "    self.batch_size = batch_size\n",
        "    self.list_examples = list_examples\n",
        "    self.n_classes = n_classes\n",
        "    self.shuffle = shuffle\n",
        "    self.on_epoch_end()\n",
        "\n",
        "  def __len__(self):\n",
        "    # Denotes the number of batches per epoch\n",
        "    return int(np.floor(len(self.list_examples) / self.batch_size))\n",
        "\n",
        "  def __getitem__(self, index):\n",
        "    # Generate one batch of data\n",
        "    indexes = self.indexes[index*self.batch_size:(index+1)*self.batch_size]\n",
        "\n",
        "    # Find list of IDs\n",
        "    list_IDs_temp = [self.list_examples[k] for k in indexes]\n",
        "\n",
        "    # Generate data\n",
        "    X, y = self.__data_generation(list_IDs_temp)\n",
        "\n",
        "    return X, y\n",
        "\n",
        "  def on_epoch_end(self):\n",
        "    # This function is called at the end of each epoch.\n",
        "    self.indexes = np.arange(len(self.list_examples))\n",
        "    if self.shuffle == True:\n",
        "      np.random.shuffle(self.indexes)\n",
        "\n",
        "  def __data_generation(self, list_IDs_temp):\n",
        "    # Load individual numpy arrays and aggregate them to a batch.\n",
        "    \n",
        "    X = np.empty([self.batch_size, self.dim[0], self.dim[1]], dtype=np.float32)\n",
        "    \n",
        "    # y is a one-hot encoded vector.\n",
        "    y = np.empty([self.batch_size, self.n_classes], dtype=np.int16)\n",
        "\n",
        "    # Generate data.\n",
        "    for i, ID in enumerate(list_IDs_temp):\n",
        "\n",
        "        # Load sample\n",
        "        X[i,:, :] = np.load(ID[0])\n",
        "        # Load labels       \n",
        "        y[i, :] = np.load(ID[1])\n",
        "\n",
        "    return X, y"
      ],
      "execution_count": 16,
      "outputs": []
    },
    {
      "cell_type": "code",
      "metadata": {
        "id": "9HCxI-4vZ5RQ",
        "colab": {
          "base_uri": "https://localhost:8080/"
        },
        "outputId": "4d41edda-a3a5-4653-d201-1e7386b8ca2e"
      },
      "source": [
        "nn = np.load(\"/content/validation data/content/Mel Files/block-id-1/id-label-127.npy\")\n",
        "nn.shape"
      ],
      "execution_count": 7,
      "outputs": [
        {
          "output_type": "execute_result",
          "data": {
            "text/plain": [
              "(1, 2)"
            ]
          },
          "metadata": {},
          "execution_count": 7
        }
      ]
    },
    {
      "cell_type": "code",
      "metadata": {
        "id": "odzFMnNdXL9f"
      },
      "source": [
        "\"\"\"\n",
        "Natural Sort\n",
        "\"\"\"\n",
        "\n",
        "import re\n",
        "\n",
        "def tryint(s):\n",
        "    try:\n",
        "        return int(s)\n",
        "    except ValueError:\n",
        "        return s\n",
        "    \n",
        "def alphanum_key(s):\n",
        "    \"\"\" Turn a string into a list of string and number chunks.\n",
        "        \"z23a\" -> [\"z\", 23, \"a\"]\n",
        "    \"\"\"\n",
        "    return [ tryint(c) for c in re.split('([0-9]+)', s) ]\n",
        "\n",
        "def sort_nicely(l):\n",
        "    \"\"\" Sort the given list in the way that humans expect.\n",
        "    \"\"\"\n",
        "    l.sort(key=alphanum_key)"
      ],
      "execution_count": 8,
      "outputs": []
    },
    {
      "cell_type": "code",
      "metadata": {
        "id": "lzv7kzndXVRx"
      },
      "source": [
        "\"\"\"\n",
        "This loads data for the training set.\n",
        "\"\"\"\n",
        "import glob\n",
        "import random\n",
        "\"\"\"\n",
        "Load the individual numpy arrays into partition\n",
        "\"\"\"\n",
        "data = glob.glob(\"/content/train data/**/id-[0-9]*.npy\", recursive=True)\n",
        "sort_nicely(data)\n",
        "\n",
        "labels = glob.glob(\"/content/train data/**/id-label-[0-9]*.npy\", recursive=True)\n",
        "sort_nicely(labels)\n",
        "\n",
        "train_examples = [(data[i], labels[i]) for i in range(len(data))]\n",
        "\n",
        "random.seed(4)\n",
        "random.shuffle(train_examples)\n",
        "\n",
        "partition = {}\n",
        "partition['train'] = train_examples"
      ],
      "execution_count": 9,
      "outputs": []
    },
    {
      "cell_type": "code",
      "metadata": {
        "id": "iwNXvHfIXguN"
      },
      "source": [
        "\"\"\"\n",
        "This loads data for the validation set.\n",
        "\"\"\"\n",
        "import glob\n",
        "import random\n",
        "\n",
        "data = glob.glob(\"/content/validation data/**/id-[0-9]*.npy\", recursive=True)\n",
        "sort_nicely(data)\n",
        "\n",
        "labels = glob.glob(\"/content/validation data/**/id-label-[0-9]*.npy\", recursive=True)\n",
        "sort_nicely(labels)\n",
        "\n",
        "validation_examples = [(data[i], labels[i]) for i in range(len(data))]\n",
        "\n",
        "random.seed(4)\n",
        "random.shuffle(validation_examples)\n",
        "\n",
        "partition['validation'] = validation_examples"
      ],
      "execution_count": 10,
      "outputs": []
    },
    {
      "cell_type": "code",
      "metadata": {
        "id": "1c2VSwboXjst"
      },
      "source": [
        "# Parameters\n",
        "params = {'dim': (802, 80),\n",
        "          'batch_size': 32,\n",
        "          'n_classes': 2,\n",
        "          'shuffle': True}\n",
        "\n",
        "# Define the generators\n",
        "training_generator = DataGenerator(partition['train'], **params)\n",
        "validation_generator = DataGenerator(partition['validation'], **params)"
      ],
      "execution_count": 17,
      "outputs": []
    },
    {
      "cell_type": "code",
      "metadata": {
        "id": "ERW5UaWMXqeS",
        "colab": {
          "base_uri": "https://localhost:8080/"
        },
        "outputId": "c25a15c7-169b-4659-cd74-4862f00f8d74"
      },
      "source": [
        "\"\"\"\n",
        "RNN to train on data\n",
        "\"\"\"\n",
        "\n",
        "import tensorflow as tf\n",
        "from tensorflow import keras\n",
        "from tensorflow.keras import layers\n",
        "\n",
        "mel_input = keras.Input(shape=(802, 80), name=\"mel_input\")\n",
        "X = mel_input\n",
        "\n",
        "X = layers.Bidirectional(layers.GRU(40, return_sequences = False))(X)\n",
        "X = layers.BatchNormalization(momentum=0.0)(X)\n",
        "\n",
        "pred = layers.Dense(2, activation='sigmoid')(X)\n",
        "\n",
        "model = keras.Model(inputs = [mel_input], outputs = [pred])\n",
        "\n",
        "keras.utils.plot_model(model, \"multi_input_and_output_model.png\", show_shapes=True)\n",
        "\n",
        "model.compile(\n",
        "    optimizer=keras.optimizers.Adam(learning_rate=0.001),\n",
        "    loss=[keras.losses.CategoricalCrossentropy()], metrics=['categorical_accuracy']\n",
        ")\n",
        "\n",
        "model.summary()"
      ],
      "execution_count": 18,
      "outputs": [
        {
          "output_type": "stream",
          "text": [
            "Model: \"model_2\"\n",
            "_________________________________________________________________\n",
            "Layer (type)                 Output Shape              Param #   \n",
            "=================================================================\n",
            "mel_input (InputLayer)       [(None, 802, 80)]         0         \n",
            "_________________________________________________________________\n",
            "bidirectional_2 (Bidirection (None, 80)                29280     \n",
            "_________________________________________________________________\n",
            "batch_normalization_2 (Batch (None, 80)                320       \n",
            "_________________________________________________________________\n",
            "dense_2 (Dense)              (None, 2)                 162       \n",
            "=================================================================\n",
            "Total params: 29,762\n",
            "Trainable params: 29,602\n",
            "Non-trainable params: 160\n",
            "_________________________________________________________________\n"
          ],
          "name": "stdout"
        }
      ]
    },
    {
      "cell_type": "code",
      "metadata": {
        "id": "qh4GKJ4gYqQA",
        "colab": {
          "base_uri": "https://localhost:8080/"
        },
        "outputId": "af2271e3-bb2e-4caa-8d7a-70539c5829a0"
      },
      "source": [
        "model.fit(training_generator, validation_data=validation_generator, epochs=5)"
      ],
      "execution_count": 19,
      "outputs": [
        {
          "output_type": "stream",
          "text": [
            "Epoch 1/5\n",
            "32/32 [==============================] - 30s 826ms/step - loss: 0.4387 - categorical_accuracy: 0.8027 - val_loss: 0.6024 - val_categorical_accuracy: 0.7734\n",
            "Epoch 2/5\n",
            "32/32 [==============================] - 26s 808ms/step - loss: 0.1367 - categorical_accuracy: 0.9590 - val_loss: 0.2269 - val_categorical_accuracy: 0.9187\n",
            "Epoch 3/5\n",
            "32/32 [==============================] - 25s 788ms/step - loss: 0.0804 - categorical_accuracy: 0.9893 - val_loss: 0.4493 - val_categorical_accuracy: 0.8813\n",
            "Epoch 4/5\n",
            "32/32 [==============================] - 26s 821ms/step - loss: 0.0562 - categorical_accuracy: 0.9961 - val_loss: 0.4994 - val_categorical_accuracy: 0.9359\n",
            "Epoch 5/5\n",
            "32/32 [==============================] - 26s 809ms/step - loss: 0.0353 - categorical_accuracy: 0.9971 - val_loss: 0.3933 - val_categorical_accuracy: 0.9203\n"
          ],
          "name": "stdout"
        },
        {
          "output_type": "execute_result",
          "data": {
            "text/plain": [
              "<keras.callbacks.History at 0x7faec8b44cd0>"
            ]
          },
          "metadata": {},
          "execution_count": 19
        }
      ]
    },
    {
      "cell_type": "code",
      "metadata": {
        "id": "-r6uCJD4ZfJo",
        "colab": {
          "base_uri": "https://localhost:8080/",
          "height": 51
        },
        "outputId": "c795c02d-b4ad-4093-b0fd-c9006b53d35c"
      },
      "source": [
        "model.evaluate(validation_generator)"
      ],
      "execution_count": null,
      "outputs": [
        {
          "output_type": "stream",
          "text": [
            "20/20 [==============================] - 3s 140ms/step - loss: 0.0389 - categorical_accuracy: 0.9940\n"
          ],
          "name": "stdout"
        },
        {
          "output_type": "execute_result",
          "data": {
            "text/plain": [
              "[0.03891988843679428, 0.993960440158844]"
            ]
          },
          "metadata": {
            "tags": []
          },
          "execution_count": 196
        }
      ]
    },
    {
      "cell_type": "code",
      "metadata": {
        "id": "6F1Gnx35y9zA"
      },
      "source": [
        ""
      ],
      "execution_count": null,
      "outputs": []
    }
  ]
}